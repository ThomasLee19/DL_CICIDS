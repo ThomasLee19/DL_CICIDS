{
 "cells": [
  {
   "cell_type": "code",
   "execution_count": 1,
   "metadata": {},
   "outputs": [
    {
     "name": "stderr",
     "output_type": "stream",
     "text": [
      "2025-05-02 06:37:26.487564: I tensorflow/core/util/port.cc:110] oneDNN custom operations are on. You may see slightly different numerical results due to floating-point round-off errors from different computation orders. To turn them off, set the environment variable `TF_ENABLE_ONEDNN_OPTS=0`.\n",
      "2025-05-02 06:37:26.543529: I tensorflow/core/platform/cpu_feature_guard.cc:182] This TensorFlow binary is optimized to use available CPU instructions in performance-critical operations.\n",
      "To enable the following instructions: AVX2 AVX512F AVX512_VNNI FMA, in other operations, rebuild TensorFlow with the appropriate compiler flags.\n",
      "2025-05-02 06:37:27.469190: W tensorflow/compiler/tf2tensorrt/utils/py_utils.cc:38] TF-TRT Warning: Could not find TensorRT\n"
     ]
    },
    {
     "name": "stdout",
     "output_type": "stream",
     "text": [
      "环境变量:\n",
      "CUDA_VISIBLE_DEVICES: None\n",
      "CUDA_HOME: None\n",
      "LD_LIBRARY_PATH: None\n",
      "\n",
      "TensorFlow版本: 2.12.0\n",
      "可用的GPU设备: [PhysicalDevice(name='/physical_device:GPU:0', device_type='GPU')]\n",
      "\n",
      "执行GPU计算测试...\n",
      "GPU计算结果:\n",
      "[[19. 22.]\n",
      " [43. 50.]]\n",
      "\n",
      "恭喜！GPU配置成功！\n"
     ]
    },
    {
     "name": "stderr",
     "output_type": "stream",
     "text": [
      "2025-05-02 06:37:29.233149: I tensorflow/core/common_runtime/gpu/gpu_device.cc:1635] Created device /job:localhost/replica:0/task:0/device:GPU:0 with 10248 MB memory:  -> device: 0, name: NVIDIA GeForce RTX 3080 Ti, pci bus id: 0000:5e:00.0, compute capability: 8.6\n",
      "2025-05-02 06:37:29.346525: I tensorflow/compiler/xla/stream_executor/cuda/cuda_blas.cc:637] TensorFloat-32 will be used for the matrix multiplication. This will only be logged once.\n"
     ]
    }
   ],
   "source": [
    "import tensorflow as tf\n",
    "import os\n",
    "\n",
    "print(\"环境变量:\")\n",
    "print(\"CUDA_VISIBLE_DEVICES:\", os.environ.get('CUDA_VISIBLE_DEVICES'))\n",
    "print(\"CUDA_HOME:\", os.environ.get('CUDA_HOME'))\n",
    "print(\"LD_LIBRARY_PATH:\", os.environ.get('LD_LIBRARY_PATH'))\n",
    "\n",
    "print(\"\\nTensorFlow版本:\", tf.__version__)\n",
    "print(\"可用的GPU设备:\", tf.config.list_physical_devices('GPU'))\n",
    "\n",
    "# 尝试一个简单的GPU操作\n",
    "if len(tf.config.list_physical_devices('GPU')) > 0:\n",
    "    # 设置内存增长模式，防止预分配全部GPU内存\n",
    "    gpus = tf.config.experimental.list_physical_devices('GPU')\n",
    "    for gpu in gpus:\n",
    "        tf.config.experimental.set_memory_growth(gpu, True)\n",
    "    \n",
    "    print(\"\\n执行GPU计算测试...\")\n",
    "    with tf.device('/GPU:0'):\n",
    "        a = tf.constant([[1.0, 2.0], [3.0, 4.0]])\n",
    "        b = tf.constant([[5.0, 6.0], [7.0, 8.0]])\n",
    "        c = tf.matmul(a, b)\n",
    "    print(\"GPU计算结果:\")\n",
    "    print(c.numpy())\n",
    "    print(\"\\n恭喜！GPU配置成功！\")\n",
    "else:\n",
    "    print(\"\\n未检测到GPU。尝试以下故障排除步骤:\")\n",
    "    print(\"1. 确认NVIDIA驱动正常: nvidia-smi\")\n",
    "    print(\"2. 确认CUDA版本与TensorFlow兼容: nvcc --version\")\n",
    "    print(\"3. 尝试设置特定的环境变量:\")\n",
    "    print(\"   export TF_FORCE_GPU_ALLOW_GROWTH=true\")"
   ]
  }
 ],
 "metadata": {
  "kernelspec": {
   "display_name": "sl-nsl-env",
   "language": "python",
   "name": "python3"
  },
  "language_info": {
   "codemirror_mode": {
    "name": "ipython",
    "version": 3
   },
   "file_extension": ".py",
   "mimetype": "text/x-python",
   "name": "python",
   "nbconvert_exporter": "python",
   "pygments_lexer": "ipython3",
   "version": "3.10.15"
  }
 },
 "nbformat": 4,
 "nbformat_minor": 2
}
