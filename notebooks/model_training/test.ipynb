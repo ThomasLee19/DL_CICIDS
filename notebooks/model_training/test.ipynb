{
 "cells": [
  {
   "cell_type": "code",
   "execution_count": 3,
   "metadata": {},
   "outputs": [
    {
     "name": "stdout",
     "output_type": "stream",
     "text": [
      "Python版本: 3.10.15 | packaged by conda-forge | (main, Oct 16 2024, 01:24:24) [GCC 13.3.0]\n",
      "TensorFlow版本: 2.12.0\n",
      "Conda环境: sl-nsl-env\n",
      "\n",
      "环境变量:\n",
      "CUDA_VISIBLE_DEVICES: None\n",
      "LD_LIBRARY_PATH: None\n",
      "CUDA_HOME: None\n",
      "\n",
      "TensorFlow构建信息:\n",
      "OrderedDict([('cpu_compiler', '/dt9/usr/bin/gcc'), ('cuda_compute_capabilities', ['sm_35', 'sm_50', 'sm_60', 'sm_70', 'sm_75', 'compute_80']), ('cuda_version', '11.8'), ('cudnn_version', '8'), ('is_cuda_build', True), ('is_rocm_build', False), ('is_tensorrt_build', True)])\n",
      "\n",
      "尝试加载GPU库:\n",
      "OrderedDict([('cpu_compiler', '/dt9/usr/bin/gcc'), ('cuda_compute_capabilities', ['sm_35', 'sm_50', 'sm_60', 'sm_70', 'sm_75', 'compute_80']), ('cuda_version', '11.8'), ('cudnn_version', '8'), ('is_cuda_build', True), ('is_rocm_build', False), ('is_tensorrt_build', True)])\n",
      "\n",
      "已加载库:\n",
      "['-L/root/miniconda3/envs/sl-nsl-env/lib/python3.10/site-packages/tensorflow', '-l:libtensorflow_framework.so.2']\n"
     ]
    }
   ],
   "source": [
    "# 保存为debug_tf_gpu.py\n",
    "import tensorflow as tf\n",
    "import os\n",
    "import sys\n",
    "\n",
    "print(\"Python版本:\", sys.version)\n",
    "print(\"TensorFlow版本:\", tf.__version__)\n",
    "print(\"Conda环境:\", os.environ.get('CONDA_DEFAULT_ENV'))\n",
    "print(\"\\n环境变量:\")\n",
    "print(\"CUDA_VISIBLE_DEVICES:\", os.environ.get('CUDA_VISIBLE_DEVICES'))\n",
    "print(\"LD_LIBRARY_PATH:\", os.environ.get('LD_LIBRARY_PATH'))\n",
    "print(\"CUDA_HOME:\", os.environ.get('CUDA_HOME'))\n",
    "\n",
    "print(\"\\nTensorFlow构建信息:\")\n",
    "print(tf.sysconfig.get_build_info())\n",
    "\n",
    "print(\"\\n尝试加载GPU库:\")\n",
    "try:\n",
    "    from tensorflow.python.platform import build_info\n",
    "    print(build_info.build_info)\n",
    "except Exception as e:\n",
    "    print(\"无法加载build_info:\", e)\n",
    "\n",
    "print(\"\\n已加载库:\")\n",
    "loaded_libs = tf.sysconfig.get_link_flags()\n",
    "print(loaded_libs)"
   ]
  }
 ],
 "metadata": {
  "kernelspec": {
   "display_name": "sl-nsl-env",
   "language": "python",
   "name": "python3"
  },
  "language_info": {
   "codemirror_mode": {
    "name": "ipython",
    "version": 3
   },
   "file_extension": ".py",
   "mimetype": "text/x-python",
   "name": "python",
   "nbconvert_exporter": "python",
   "pygments_lexer": "ipython3",
   "version": "3.10.15"
  }
 },
 "nbformat": 4,
 "nbformat_minor": 2
}
